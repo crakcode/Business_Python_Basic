{
  "cells": [
    {
      "cell_type": "markdown",
      "metadata": {
        "id": "view-in-github",
        "colab_type": "text"
      },
      "source": [
        "<a href=\"https://colab.research.google.com/github/crakcode/Business_Python_Basic/blob/main/LP2_Functions.ipynb\" target=\"_parent\"><img src=\"https://colab.research.google.com/assets/colab-badge.svg\" alt=\"Open In Colab\"/></a>"
      ]
    },
    {
      "cell_type": "markdown",
      "metadata": {
        "id": "6g-rG-T-LxxT"
      },
      "source": [
        "# 수업 내용 확인"
      ]
    },
    {
      "cell_type": "markdown",
      "metadata": {
        "id": "cmTUHICLLxxV"
      },
      "source": [
        "함수는 이미 수학에서 배운 개념입니다.<br>\n",
        "본 수업에서는 Python을 통해서 수학의 함수와 동일한 수학 계산을 하는 경우, 그리고 보다 폭넓은 기능을 제공하는 함수를 만나게 됩니다.<br>\n",
        "이러한 과정에서 Python이 이미 제공하는 수많은 함수들을 익히고, 사용자가 스스로 함수를 만드는 과정을 경험하게 됩니다."
      ]
    },
    {
      "cell_type": "markdown",
      "metadata": {
        "id": "BHf5AHXqLxxV"
      },
      "source": [
        "## Python의 함수 개념 이해하기"
      ]
    },
    {
      "cell_type": "markdown",
      "metadata": {
        "id": "DXyWTQqYLxxW"
      },
      "source": [
        "\n",
        "### 수학에서의 함수 \n",
        "지금까지 배워온 수학과목들을 통새어 우리는 함수라는 개념을 익히 알고 있습니다.<br>\n",
        "예를 들어 다음과 같이 입력 값 ``x``를 받아서, 함수의 결과 값을 출력값 ``y``에 대입하는 수학 함수인 ``f(x)``의 개념을 알고 있습니다.<br>\n",
        "\n",
        "$y=f(x)$\n",
        "\n",
        "주어진 수학 공식에서 함수 ``f(x)``는 정해진 약속을 수행하는 것도 알고 있습니다.<br>\n",
        "즉 ``f(x) = x + 1``일때, 만약 ``x``가 1의 값을 가질다면, 우리는 앞서의 $y=f(x)$를 통해서 ``y``에 2의 값이 대입됨을 알고 있습니다.<br>\n",
        "\n",
        "### 프로그래밍에서의 함수 \n",
        "Python과 같은 프로그래밍 언어도 수학과 마찬가지로 함수가 있습니다.<br>\n",
        "프로그래밍 언어의 함수는 수학의 함수처럼 숫자의 계산을 포함하면서, 보다 다양한 기능을 제공한다는 점에서 차이가 있습니다.<br>\n",
        "프로그래밍 언어의 함수를 사용하면 화일을 만들고 업데이트 하거나, 화면에 그림을 그리거나, 스피커로 소리를 만드는 등 다양한 작업이 가능합니다.<br>\n",
        "\n"
      ]
    },
    {
      "cell_type": "markdown",
      "metadata": {
        "id": "gVvT5mV_LxxW"
      },
      "source": [
        "## 내장 함수 이해하기"
      ]
    },
    {
      "cell_type": "markdown",
      "metadata": {
        "id": "gMdTMz0HLxxW"
      },
      "source": [
        "Python과 같은 프로그래밍 언어는, 이미 다양한 기능을 수행하는 함수들을 내장하고 있다. 밑에는 예시입니다. </br>\n",
        "- abs(x): 입력 받은 정수 혹은 실수 변수인 ``x``의 절대값을 계산합니다.<br>\n",
        "- pow(x, y): 입력 받은 ``x``의 ``y`` 거듭제곱을 계산합니다.<br>\n",
        "- round(x): 입력 받은 ``x``를 소수점 다음에 대해서 반올림한 값을 계산합니다.<br>\n",
        "\n",
        "다음의 코드를 아래 입력창에 한번에 입력하여, 실행함으로서 확인이 가능합니다.<br>\n",
        "\n",
        "```python\n",
        "print(abs(-9))\n",
        "print(pow(3,2))\n",
        "print(round(4.3))\n",
        "```"
      ]
    },
    {
      "cell_type": "code",
      "execution_count": null,
      "metadata": {
        "id": "avn_BXf0LxxW"
      },
      "outputs": [],
      "source": [
        ""
      ]
    },
    {
      "cell_type": "markdown",
      "metadata": {
        "id": "WQPKIkILLxxX"
      },
      "source": [
        "\n",
        "\n",
        "혹은 Python 문법의 사용법을 모를때 호출하면 유용하게 사용할 수 있는, 함수 ``help()``를 사용하는 것도 좋은 방법입니다.<br>\n",
        "즉 본인이 궁금한 함수의 이름을 ``help()`` 함수의 입력 파라메타로 입력하면, 이에 대한 짧은 설명을 Python이 알려줍니다.<br>\n",
        "시험 삼아, abs() 함수에 대한 사항을 알아보기 위하여, 다음의 입력창에 ``help(abs)``를 입력후 실행해 보십시오.\n",
        "\n",
        "Python은 매우 많은 내장 함수를 기본적으로 제공하므로, 이에 대해서는 다음의 웹사이트를 방문하여 천천히 살펴보도록 합니다.<br>\n",
        "- Python 3.x의 내장함수 설명 웹사이트: <https://docs.python.org/ko/3/library/functions.html#round>\n",
        "\n",
        "```python\n",
        "help(abs)\n",
        "```"
      ]
    },
    {
      "cell_type": "code",
      "execution_count": null,
      "metadata": {
        "id": "OekYKzShLxxX"
      },
      "outputs": [],
      "source": [
        ""
      ]
    },
    {
      "cell_type": "markdown",
      "metadata": {
        "id": "u0-CvKFjLxxY"
      },
      "source": [
        "Python이 제공하는 내장 함수들 중에는 변수의 타입을 바꿔주는 함수들도 존재합니다.<br>\n",
        "즉, 앞서의 수업에서 배운 정수/실수 타입에 대해서, 정수를 실수로 혹은 실수를 정수로 바꿔주는 함수들이며, 함수의 이름은 타입명과 동일합니다.<br>\n",
        "- int(실수) -> 정수로 변환\n",
        "- float(정수) -> 실수로 변환\n",
        "```python\n",
        "print(int(34.6))\n",
        "print(float(21))\n",
        "```"
      ]
    },
    {
      "cell_type": "code",
      "execution_count": null,
      "metadata": {
        "id": "PyOLBsKvLxxY"
      },
      "outputs": [],
      "source": [
        ""
      ]
    },
    {
      "cell_type": "markdown",
      "metadata": {
        "id": "PgBqB5qSLxxY"
      },
      "source": [
        "## 사용자 정의 함수 만들기"
      ]
    },
    {
      "cell_type": "markdown",
      "metadata": {
        "id": "NpGVeNyHLxxY"
      },
      "source": [
        "Python 언어가 기본적으로 제공하는 내장 함수외에, 컴퓨터 프로그래머가 필요한 함수를 직접 만드는 것이 가능합니다.<br>\n",
        "피타고라스 공식을 Python을 사용한 사용자 정의 함수로 만들어 보겠습니다.<br>\n",
        "\n",
        "``피타고라스 정리 (수학)``: C<sup>2</sup>=A<sup>2</sup> + B<sup>2\n",
        "\n",
        "사용자 정의 함수를 만들기 전에 다음의 사항을 미리 고민해야 합니다.<br>\n",
        "\n",
        "(1) 함수의 이름은 무엇인가?<br>\n",
        "(2) 함수의 입력 파라메타는 무엇인가? (갯수, 종류 등)<br>\n",
        "(3) 함수의 기능은 무엇인가? (입력 파라메타를 받아서 어떤 작업을 해야하는가 등)<br>\n",
        "(4) 함수의 출력 파라메타는 무엇인가? ((3)의 작업을 마친후, 함수를 호출한 곳으로 어떤 결과를 돌려줘야 하는가 등)<br>\n",
        "\n",
        "각각에 대해서 미리 답을 해봅시다.\n",
        "\n",
        "(1) 함수의 이름: **Pythagorean theorem**<br>\n",
        "(2) 함수의 입력 파라메타: **밑변(a), 높이(b)**<br>\n",
        "(3) 함수의 기능: 밑변과 높이를 입력받아서 빗변의 제곱값을 구함<br>\n",
        "(4) 함수의 출력 파라메타: 빗변의 제곱값<br>\n",
        "\n",
        "이제 정의한 함수를 Python 언어로 작성하면 다음과 같습니다.<br>\n",
        "\n",
        "```python\n",
        "def Pythagorean_theorem(a,b):\n",
        "    return a**2 + b**2 \n",
        "```\n",
        "\n",
        "- 1번줄 설명<br>\n",
        "Python에서 사용자 정의 함수를 새롭게 만들때에는 ``def`` 문법으로 시작합니다.<br>\n",
        "``def`` 문법을 사용하여 새롭게 ``Pythagorean_theorem()`` 함수를 정의하는 것으로 시작했으며,<br>\n",
        "미리 정의한 것처럼, 입력 파라메타를 두개 받는데, 입력 파라메타의 이름을 밑변은 a 높이는 b 로 입력받았습니다.<br>\n",
        "이렇게 입력 파라메타도 변수이므로, 앞서 변수에 대한 수업에서 배운 것처럼, 의미가 명확하게 이름을 지어줍니다.<br>\n",
        "마지막으로 새롭게 정의하는 함수에 대한 것임을 Python에 알려주기 위하여 ``:``으로 마칩니다.<br>\n",
        "\n",
        "- 2번줄 설명<br>\n",
        "이제 ``Pythagorean_theorem()`` 함수의 실제 내용을 작성하는 것을 시작하는 줄입니다.<br>\n",
        "Python에서는 사용자 정의 함수를 정의하는 1번줄 다음의, 2번줄 부터는 공백으로 시작을 해야 합니다.<br>\n",
        "예제의 경우는 4칸의 공백을 주었고, 일반적으로 2칸 혹은 tab을 사용합니다.<br>\n",
        "만약에 Python 언어를 인식하는 개발도구 혹은 에디터를 사용한다면, 이런 경우를 자동으로 인식하여 자동으로 공백을 삽입하니 편리합니다.<br>\n",
        "\n",
        "아래의 입력창에, 위에서 정의한 ``Pythagorean_theorem()`` 함수를 입력하고 실행해 봅니다.<br>\n",
        "아무런 결과가 나타나지 않았다면, 에러(error)가 없는 것입니다.<br>\n",
        "Python이 에러를 나타낸다면, 위의 프로그램 코드를 잘보고 오타 없이 타이핑해서 에러를 없애 봅니다.<br>\n"
      ]
    },
    {
      "cell_type": "code",
      "execution_count": null,
      "metadata": {
        "id": "azB7sO-9LxxZ"
      },
      "outputs": [],
      "source": [
        ""
      ]
    },
    {
      "cell_type": "markdown",
      "metadata": {
        "id": "PYyDlTFYLxxZ"
      },
      "source": [
        "에러가 나지 않았다면, 이제 Python은 여러분이 만든 ``Pythagorean_theorem()`` 함수를 기억하고 있습니다.<br>\n",
        "이제 만든 함수를 사용(호출)해 볼까요?<br>\n",
        "아래의 입력창에 다음과 같이 화씨 212도를 섭씨로 변환하는 함수 호출을 실습해 보십시오.<br>\n",
        "\n",
        "```python\n",
        "Pythagorean_theorem(3,4)\n",
        "```"
      ]
    },
    {
      "cell_type": "code",
      "execution_count": null,
      "metadata": {
        "id": "JbSfec-4LxxZ"
      },
      "outputs": [],
      "source": [
        ""
      ]
    },
    {
      "cell_type": "markdown",
      "metadata": {
        "id": "1fKpIh6PLxxZ"
      },
      "source": [
        "## 예약어 피하기"
      ]
    },
    {
      "cell_type": "markdown",
      "metadata": {
        "id": "9Z-hUrOALxxZ"
      },
      "source": [
        "지난 시간의 변수 이름 정하기와 이번 시간의 함수 이름을 정하는 단계에서 반드시 염두에 두어야 하는 것은 \"예약어(reserved words)\"입니다.<br>\n",
        "Python 언어의 예약어는 문법으로 사용하는 단어들이기에 변수나 함수의 이름으로 사용하면 안됩니다.<br>\n",
        "주요 예약어는 다음과 같습니다.<br>\n",
        "\n",
        "``and, del, from, not, while, as, elif, global, or, with, assert, else, if,``<br>\n",
        "``break, except, import, print, class, exec, in, raise, continue, finally,``<br>\n",
        "``pass, yield, def, for, lambda, try, is, return``<br>"
      ]
    },
    {
      "cell_type": "markdown",
      "metadata": {
        "id": "LLV-UPk8Lxxa"
      },
      "source": [
        "## 지역변수 이해하기"
      ]
    },
    {
      "cell_type": "markdown",
      "metadata": {
        "id": "HV-Fj6ndLxxa"
      },
      "source": [
        "우리는 앞서의 수업에서 필요한 시점에 필요한 값을 저장하는 변수를 배웠고, 위의 예제들에서도 사용하였습니다.<br>\n",
        "이미 만들어진 변수에 대해서, 이 변수가 만들어진 지점이 어디냐에 따라서, 이후 사용 가능하거나 불가능한 경우가 발생합니다.<br>\n",
        "대표적인 사례는 지역변수(Local Variables) 입니다.<br>\n",
        "지역변수를 이해하기 위하여, 앞서 만든 사용자 정의 함수를 다시 봅니다.<br>\n",
        "\n",
        "```python\n",
        "def Pythagorean_theorem(a,b):\n",
        "    return a**2+b**2\n",
        "```\n",
        "\n",
        "사용자 정의 함수 ``Pythagorean_theorem()`` 안에는 변수 ``a , b``가 있는 것을 볼수 있습니다.<br>\n",
        "이는 해당 함수 안에서 만들어서 사용한 변수이며, 따라서 ``Pythagorean_theorem()`` 안에서만 의미가 있는데, 이를 지역변수라고 합니다.<br>\n",
        "즉, 변수를 사용할 수 있는 지역이 사용자 정의 함수 ``Pythagorean_theorem()`` 안으로 제한되는 것 입니다.<br>\n",
        "이를 확인해 보기 위하여, 아래의 창에 다음처럼 ``a, b`` 변수의 값을 읽어보는 시도를 해봅니다.<br>\n",
        "\n",
        "```python\n",
        "print(a,b)\n",
        "```"
      ]
    },
    {
      "cell_type": "code",
      "execution_count": null,
      "metadata": {
        "id": "fmUpbWw5Lxxa"
      },
      "outputs": [],
      "source": [
        ""
      ]
    },
    {
      "cell_type": "markdown",
      "metadata": {
        "id": "k1t1iLwCLxxa"
      },
      "source": [
        "시도해본 결과 ``\"name 'a' is not defined\"``라는 에러가 나는 것을 볼수 있습니다.<br>\n",
        "즉, 우리가 지금 ``a, b`` 변수를 사용한 지점은 ``Pythagorean_theorem()`` 함수 밖이기에,<br>\n",
        "``Pythagorean_theorem()`` 함수 안에서만 사용 가능한 ``a, b`` 변수를 접근하는 행위는 문제가 있는 것 입니다.<br>"
      ]
    },
    {
      "cell_type": "markdown",
      "metadata": {
        "id": "81GPDLcILxxb"
      },
      "source": [
        "## 함수 호출 후 결과값 활용하기"
      ]
    },
    {
      "cell_type": "markdown",
      "metadata": {
        "id": "wqFYDy9ULxxc"
      },
      "source": [
        "함수를 호출하는 이유는 함수가 수행한 결과를 받아서 활용하기 위한 목적이 일반적입니다.<br>\n",
        "이 경우, 함수 호출 결과를 활용 하는 대표적인 방법은 다음과 같습니다.<br>\n",
        "\n",
        "아래 일차함수에서 값을 넣어주고 결과값을 받아서 결과값을 이용합니다.</br>\n",
        "y= aX + b\n",
        "\n",
        "```python\n",
        "def linear_function(a,b,x)\n",
        "  y=a*x+b\n",
        "  return y\n",
        "```\n",
        "\n",
        "\n",
        "```python\n",
        "# Case.1\n",
        "print(linear_function(2,3,4))\n",
        "\n",
        "# Case.2\n",
        "result = linear_function(2,3,4)\n",
        "result = result + 1\n",
        "print(result)\n",
        "```\n",
        "\n",
        "Case.1의 경우는 함수의 결과를 별도의 변수 없이 ``print()`` 문법을 사용하여 화면에 출력만 하는 경우입니다.<br>\n",
        "Case.2의 경우는 함수의 결과를 새로운 변수(이 경우 ``result``)에 저장하고, 필요한 추가적인 작업(이경우 결과에 1을 더하고, 화면 출력)을 수행하는 경우입니다.<br>\n",
        "함수를 만들거나 호출한 용도에 맞춰서, 두가지 방법중 하나를 사용하면 됩니다."
      ]
    },
    {
      "cell_type": "markdown",
      "metadata": {
        "id": "9M93PprKLxxc"
      },
      "source": [
        "# 실습 (LAB)"
      ]
    },
    {
      "cell_type": "markdown",
      "metadata": {
        "id": "3QSfBbDVLxxc"
      },
      "source": [
        "## Python 내장 함수 사용하기"
      ]
    },
    {
      "cell_type": "markdown",
      "metadata": {
        "id": "1oafdKELLxxc"
      },
      "source": [
        "위의 내장 함수 관련 웹사이트를 참조하여, 다음의 각 줄에 해당하는 코드를 작성하고, ``print()`` 문법을 사용하여 출력합니다.<br>\n",
        "\n",
        "(1) -9.2의 절대값<br>\n",
        "(2) 3^2(3의 2거듭제곱)값<br>\n",
        "(3) -4.3의 정수값<br>\n",
        "(4) 21의 실수값<br>\n",
        "(5) 2와 3중 최소값<br>\n",
        "(6) 2, -3, 4, 7, -5의 최소값<br>\n",
        "(7) 2, -3, 4, 7, -5의 최대값<br>\n",
        "(8) 2, -3, min(4,7), -5 중 최소값<br>\n",
        "(9) 2, -3, max(4,7), -5 중 최대값<br>"
      ]
    },
    {
      "cell_type": "code",
      "execution_count": null,
      "metadata": {
        "id": "-xTRo6bZLxxc"
      },
      "outputs": [],
      "source": [
        ""
      ]
    },
    {
      "cell_type": "markdown",
      "metadata": {
        "id": "_FJSgXLlLxxc"
      },
      "source": [
        "## 사용자 정의 함수 만들기 (기본)"
      ]
    },
    {
      "cell_type": "markdown",
      "metadata": {
        "id": "pqyRbeH9Lxxc"
      },
      "source": [
        "다음의 다섯 함수를 만듭니다.<br>\n",
        "\n",
        "- sum(a,b): a와 b값을 더한 값을 출력값으로 돌려줌<br>\n",
        "- multiply(a,b): a와 b값을 곱한 값을 출력값으로 돌려줌<br>\n",
        "- subtract(a,b): a에서 b값을 뺀 값을 출력값으로 돌려줌<br>\n",
        "- multiply_three_numbers(a,b,c): $a*b*c$를 모두 곱한 값을 출력값으로 돌려줌<br>\n",
        "- add_and_multiply(a,b,c): $(a+b)*c$를 계산한 값을 출력값으로 돌려줌<br>\n",
        "\n",
        "임시 변수 x, y, z를 만들어서 각각에 적절한 값을 대입한 후,<br>\n",
        "위에서 정의한 사용자 함수들을 하나 하나 호출하고 난후, 결과값을 ``print()`` 문법을 사용하여 출력하도록 합니다."
      ]
    },
    {
      "cell_type": "code",
      "execution_count": null,
      "metadata": {
        "id": "qMiDBO1ELxxc"
      },
      "outputs": [],
      "source": [
        ""
      ]
    },
    {
      "cell_type": "markdown",
      "metadata": {
        "id": "Wbu9vq0SLxxc"
      },
      "source": [
        "**\\[자가진단\\] 본인이 만든 LAB 프로그램이 제대로 동작하는지 확인합니다.**<br>\n",
        "아래의 입력창을 수정하지 않고, 그대로 실행해서, 아무런 변화가 없다면 제대로 작성한 것입니다.<br>\n",
        "만약 에러 화면이 나타난다면, 위에서 정의한 다섯개의 함수(들)를 수정하여 에러가 없도록 다시 작성합니다.<br>"
      ]
    },
    {
      "cell_type": "code",
      "execution_count": null,
      "metadata": {
        "id": "5B-YkZ97Lxxd"
      },
      "outputs": [],
      "source": [
        "assert sum(1,2) == 3\n",
        "assert multiply(1, 2) == 2\n",
        "assert subtract(1, 2) == -1\n",
        "assert multiply_three_numbers(1, 2, 3) == 6\n",
        "assert add_and_multiply(1, 2, 3) == 9"
      ]
    },
    {
      "cell_type": "markdown",
      "metadata": {
        "id": "Kl5CKQXWLxxa"
      },
      "source": [
        "## 함수 호출시 주의사항과 지역변수 다시 한번 이해하기"
      ]
    },
    {
      "cell_type": "markdown",
      "metadata": {
        "id": "4dz7inabLxxb"
      },
      "source": [
        "``quadratic()`` 함수는 다음과 같은 정의를 통해서 만든 함수입니다.<br>\n",
        "\n",
        "(1) 함수의 이름: **quadratic**<br>\n",
        "(2) 함수의 입력 파라메타: **$f(x) =  a * x^2 + b * x + c$ 공식에서 ``a``, ``b``, ``c`` 및 ``x`` 값**<br>\n",
        "(3) 함수의 기능: **$f(x) =  a * x^2 + b * x + c$ 공식을 계산함**<br>\n",
        "(4) 함수의 출력 파라메타: **$f(x) =  a * x^2 + b * x + c$ 공식의 결과 값을 호출한 곳으로 돌려줌**<br>\n",
        "\n",
        "``quadratic()`` 함수는 총7개의 지역변수를 갖습니다.<br>\n",
        "4개는 입력 파라메타로 사용하는 ``a``, ``b``, ``c`` 및 ``x`` 이며,<br>\n",
        "나머지 3개는 함수 내부적인 처리를 위해서 사용하는 ``first``, ``second`` 및 ``third`` 입니다.<br>\n",
        "\n",
        "먼저, 아래의 입력창에 다음의 문장을 통해서 ``quadratic()`` 함수를 실행해 봅니다.<br>\n",
        "\n",
        "```python\n",
        "print(quadratic(10))\n",
        "```"
      ]
    },
    {
      "cell_type": "code",
      "execution_count": null,
      "metadata": {
        "id": "xVzYSvyOLxxb"
      },
      "outputs": [],
      "source": [
        ""
      ]
    },
    {
      "cell_type": "markdown",
      "metadata": {
        "id": "vIxzR-HbLxxd"
      },
      "source": [
        "## 사용자 정의 함수 만들기 (심화1)"
      ]
    },
    {
      "cell_type": "markdown",
      "metadata": {
        "id": "siCEOW4FLxxd"
      },
      "source": [
        "앞서 작성한 ``add_and_multiply()`` 함수를, 기본 연산자인 ``+``와 ``*``를 사용하지 말고,<br>\n",
        "``sum()``와 ``multiply()`` 함수를 이용하여 동일한 동작을 수행하도록 하며, 이를 ``new_add_and_multiply()`` 함수로 정의합니다.<br>\n",
        "아래의 입력창에 새로운 ``new_add_and_multiply()`` 함수를 작성하고, 앞서 정의한 ``x``, ``y``, ``z``를 입력 파라메타로 주어 실행해 봅니다."
      ]
    },
    {
      "cell_type": "code",
      "execution_count": null,
      "metadata": {
        "id": "zqSllFfTLxxd"
      },
      "outputs": [],
      "source": [
        ""
      ]
    },
    {
      "cell_type": "markdown",
      "metadata": {
        "id": "AonkfV0MLxxd"
      },
      "source": [
        "**\\[자가진단\\] 본인이 만든 LAB 프로그램이 제대로 동작하는지 확인합니다.**<br>\n",
        "아래의 입력창을 수정하지 않고, 그대로 실행해서, 아무런 변화가 없다면 제대로 작성한 것입니다.<br>\n",
        "만약 에러 화면이 나타난다면, ``new_add_and_multiply()`` 함수를 수정하여 에러가 없도록 다시 작성합니다.<br>"
      ]
    },
    {
      "cell_type": "code",
      "execution_count": null,
      "metadata": {
        "id": "Td-iRbvYLxxd"
      },
      "outputs": [],
      "source": [
        "assert new_add_and_multiply(1,2,3) == 9\n",
        "assert new_add_and_multiply(2,3,4) == 20\n",
        "assert new_add_and_multiply(5,2,-8) == -56"
      ]
    },
    {
      "cell_type": "markdown",
      "metadata": {
        "id": "KFVXOSozLxxd"
      },
      "source": [
        "## 사용자 정의 함수 만들기 (심화2)"
      ]
    },
    {
      "cell_type": "markdown",
      "metadata": {
        "id": "RSAmmeUfLxxe"
      },
      "source": [
        "앞서 작성한 ``quadratic()`` 함수를, 기본 연산자들을 사용하지 말고,<br>\n",
        "지금까지 정의한 사용자 정의 함수 및 내장 함수를 **'그대로'** 이용하여 새롭게 정의하며, 이를 ``new_quadratic()`` 함수로 정의합니다.<br>\n",
        "아래의 입력창에 새로운 ``new_quadratic()`` 함수를 작성하고, 적절한 입력 파라메타를 주어 실행해 봅니다."
      ]
    },
    {
      "cell_type": "code",
      "execution_count": null,
      "metadata": {
        "id": "IUf_cmKaLxxe"
      },
      "outputs": [],
      "source": [
        ""
      ]
    },
    {
      "cell_type": "markdown",
      "metadata": {
        "id": "_ADhgUaDLxxe"
      },
      "source": [
        "**\\[자가진단\\] 본인이 만든 LAB 프로그램이 제대로 동작하는지 확인합니다.**<br>\n",
        "아래의 입력창을 수정하지 않고, 그대로 실행해서, 아무런 변화가 없다면 제대로 작성한 것입니다.<br>\n",
        "만약 에러 화면이 나타난다면, ``new_quadratic()`` 함수를 수정하여 에러가 없도록 다시 작성합니다.<br>"
      ]
    },
    {
      "cell_type": "code",
      "execution_count": null,
      "metadata": {
        "id": "FRGvP-BwLxxe"
      },
      "outputs": [],
      "source": [
        "assert new_quadratic(2, 3, 4, 2) == 18\n",
        "assert new_quadratic(4, 7, 1, 9) == 388\n",
        "assert new_quadratic(-54, 77, 32, 100) == -532268"
      ]
    },
    {
      "cell_type": "markdown",
      "metadata": {
        "id": "LWV0m1TjL1Gf"
      },
      "source": [
        "## 사용자 정의 함수를 만들고 FDR에 대한 정보 포함하기"
      ]
    },
    {
      "cell_type": "markdown",
      "metadata": {
        "id": "UfcdJ8QmL1Gf"
      },
      "source": [
        "두 숫자의 차이를 절대값으로 계산하는 ``getDifference()`` 함수를 만들고자 합니다.<br>\n",
        "이 함수는 두 개의 숫자를 입력 파라메타로 전달 받아서, 두 숫자의 차이값을 절대 값으로 계산하여 호출된 곳으로 전달합니다.<br>\n",
        "절대 값의 계산은 Python의 내장 함수를 사용하도록 합니다.<br>\n",
        "또한 사용자가 편하게 ``getDifference()`` 함수를 사용할 수 있도록 ``help(getDifference)``의 형태로 정보를 제공하도록 합니다.<br>\n",
        "위의 사항을 반영한 ``getDifference()`` 함수를 아래의 입력 창에 입력하고, 실행하십시오."
      ]
    },
    {
      "cell_type": "code",
      "execution_count": null,
      "metadata": {
        "id": "lI0T5cyLL1Gg"
      },
      "outputs": [],
      "source": [
        ""
      ]
    },
    {
      "cell_type": "markdown",
      "metadata": {
        "id": "lJHsirCcL1Gg"
      },
      "source": [
        "**\\[자가진단1\\] 본인이 만든 LAB 프로그램이 제대로 동작하는지 확인합니다.**<br>\n",
        "아래의 입력창을 수정하지 않고, 그대로 실행해서, 실행결과로 8이 나온다면 제대로 작성한 것입니다.<br>\n",
        "만약 그렇지 않다면, ``getDifference()`` 함수를 수정하여 에러가 없도록 다시 작성합니다.<br>"
      ]
    },
    {
      "cell_type": "code",
      "execution_count": null,
      "metadata": {
        "id": "pUqQYqTEL1Gg"
      },
      "outputs": [],
      "source": [
        "getDifference(10, 2)"
      ]
    },
    {
      "cell_type": "markdown",
      "metadata": {
        "id": "6J6Q3LT3L1Gh"
      },
      "source": [
        "## 구구단 프로그램 작성하기"
      ]
    },
    {
      "cell_type": "markdown",
      "metadata": {
        "id": "R5R_kJeFL1Gi"
      },
      "source": [
        "사용자 정의 함수를 만들수 있으니, 원시적인 형태의 구구단 프로그램을 작성해 봅니다.<br>\n",
        "아래의 입력창에 1에서 9사이의 정수를 하나 입력 파라메타로 전달하면, <br>\n",
        "해당 정수에 대해서 곱하기 1부터 곱하기 9까지의 결과를 출력하는 함수 ``calcGugudan()``을 작성합니다.<br>\n",
        "``calcGugudan()`` 함수의 출력값은 없습니다.<br>\n",
        "해당 ``calcGugudan()`` 함수를 만든후, 입력 파라메타로 1에서 9까지의 결과를 주어서 제대로 된 결과가 나오는지 확인 합니다.<br>\n",
        "참고로 ``calcGugudan()`` 함수에 입력 파라메타로 3을 준 경우의 결과 예시는 다음과 같습니다.<br>\n",
        "\n",
        "``3  *  1  =  3``<br>\n",
        "``3  *  2  =  6``<br>\n",
        "``3  *  3  =  9``<br>\n",
        "``3  *  4  =  12``<br>\n",
        "``3  *  5  =  15``<br>\n",
        "``3  *  6  =  18``<br>\n",
        "``3  *  7  =  21``<br>\n",
        "``3  *  8  =  24``<br>\n",
        "``3  *  9  =  27``<br>\n",
        "\n",
        "이런 형태의 출력을 만들기 위해서, ``print()`` 함수의 사용법을 추가로 설명하면 다음과 같습니다.<br>\n",
        "``print()`` 함수를 통해서 여러 값을 한번에 출력하고 싶으면, ``( )`` 괄호 사이에 쉼표로 여러 값을 나타내면 됩니다.<br>\n",
        "즉, 변수 ``x``와 ``*``, ``=`` 기호 및 산술식 ``x + 1``을 혼용해서 하나의 ``print()`` 함수에서 출력할 경우는 다음처럼 하면 됩니다.<br>\n",
        "\n",
        "```python\n",
        "print(x, \"*\", 1, \" = \", x * 1)\n",
        "```\n",
        "\n",
        "그러면, 아래 창에 위의 조건을 만족하는 ``calcGugudan()`` 함수를 작성하고,<br>\n",
        "이 함수를 이용해서 1단에서 9단까지의 결과를 화면에 출력하는 프로그램을 작성 합니다."
      ]
    },
    {
      "cell_type": "code",
      "execution_count": null,
      "metadata": {
        "id": "9lpwlhmLL1Gi"
      },
      "outputs": [],
      "source": [
        ""
      ]
    },
    {
      "cell_type": "markdown",
      "metadata": {
        "id": "XG3hPSB1L1Gi"
      },
      "source": [
        "**\\[자가진단1\\] 본인이 만든 LAB 프로그램이 제대로 동작하는지 확인합니다.**<br>\n",
        "아래의 입력창을 수정하지 않고, 그대로 실행해서, 아래와 동일하게 나온다면 제대로 작성한 것입니다.<br>\n",
        "만약 그렇지 않다면, ``calcGugudan()`` 함수를 수정하여 에러가 없도록 다시 작성합니다.<br>\n",
        "\n",
        "``9  *  1  =  9``<br>\n",
        "``9  *  2  =  18``<br>\n",
        "``9  *  3  =  27``<br>\n",
        "``9  *  4  =  36``<br>\n",
        "``9  *  5  =  45``<br>\n",
        "``9  *  6  =  54``<br>\n",
        "``9  *  7  =  63``<br>\n",
        "``9  *  8  =  72``<br>\n",
        "``9  *  9  =  81``<br>"
      ]
    },
    {
      "cell_type": "code",
      "execution_count": null,
      "metadata": {
        "id": "st4CRqVuL1Gi"
      },
      "outputs": [],
      "source": [
        "calcGugudan(9)"
      ]
    },
    {
      "cell_type": "markdown",
      "metadata": {
        "id": "BJElQaF6L1Gj"
      },
      "source": [
        "**\\[자가진단2\\] 본인이 만든 LAB 프로그램이 제대로 동작하는지 확인합니다.**<br>\n",
        "아래의 입력창을 수정하지 않고, 그대로 실행해서, 1단 부터 9단까지의 구구단 결과가 제대로 나온다면 제대로 작성한 것입니다.<br>\n",
        "만약 그렇지 않다면, ``calcGugudan()`` 함수를 수정하여 에러가 없도록 다시 작성합니다.<br>"
      ]
    },
    {
      "cell_type": "code",
      "execution_count": null,
      "metadata": {
        "id": "_uyHHZS_L1Gj"
      },
      "outputs": [],
      "source": [
        "calcGugudan(1)\n",
        "calcGugudan(2)\n",
        "calcGugudan(3)\n",
        "calcGugudan(4)\n",
        "calcGugudan(5)\n",
        "calcGugudan(6)\n",
        "calcGugudan(7)\n",
        "calcGugudan(8)\n",
        "calcGugudan(9)"
      ]
    }
  ],
  "metadata": {
    "kernelspec": {
      "display_name": "Python 3",
      "language": "python",
      "name": "python3"
    },
    "language_info": {
      "codemirror_mode": {
        "name": "ipython",
        "version": 3
      },
      "file_extension": ".py",
      "mimetype": "text/x-python",
      "name": "python",
      "nbconvert_exporter": "python",
      "pygments_lexer": "ipython3",
      "version": "3.7.3"
    },
    "colab": {
      "name": "LP2_Functions.ipynb",
      "provenance": [],
      "toc_visible": true,
      "include_colab_link": true
    }
  },
  "nbformat": 4,
  "nbformat_minor": 0
}