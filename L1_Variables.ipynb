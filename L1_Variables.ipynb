{
  "nbformat": 4,
  "nbformat_minor": 0,
  "metadata": {
    "colab": {
      "name": "L1.Variables.ipynb",
      "provenance": [],
      "toc_visible": true,
      "authorship_tag": "ABX9TyMGJbA7DuRmnEtoC7FPPcUw",
      "include_colab_link": true
    },
    "kernelspec": {
      "name": "python3",
      "display_name": "Python 3"
    },
    "language_info": {
      "name": "python"
    }
  },
  "cells": [
    {
      "cell_type": "markdown",
      "metadata": {
        "id": "view-in-github",
        "colab_type": "text"
      },
      "source": [
        "<a href=\"https://colab.research.google.com/github/crakcode/Business_Python_Basic/blob/main/L1_Variables.ipynb\" target=\"_parent\"><img src=\"https://colab.research.google.com/assets/colab-badge.svg\" alt=\"Open In Colab\"/></a>"
      ]
    },
    {
      "cell_type": "markdown",
      "source": [
        "# 파이썬의 기초 및 변수\n",
        "본 수업에서는 어떤 프로그래밍 언어를 배우더라도 항상 접하게 되는 최초의 프로그램인 \"Hello World\"를 만나게 됩니다.<br>\n",
        "그리고 Python의 기본 사칙연산 연산자와 변수의 개념을 익힘으로서, 간단한 산수 계산을 Python을 이용하여 할수 있도록 합니다.<br>\n",
        "\n",
        "## 오늘 배울것\n",
        "- Hello world 출력\n",
        "- 사칙연산( + / - / * / % 계산하기)\n",
        "- 기타 기본 연산자 \n",
        "- 데이터 타입\n",
        "- 변수의 개념 \n",
        "- 주석 작성 \n"
      ],
      "metadata": {
        "id": "pwm25JOWilsh"
      }
    },
    {
      "cell_type": "markdown",
      "source": [
        "## Hello world 출력"
      ],
      "metadata": {
        "id": "mHA9Sr7rjRDn"
      }
    },
    {
      "cell_type": "markdown",
      "metadata": {
        "id": "XmYnJM09ifck"
      },
      "source": [
        "가장 기초적인 \"Hello World 프로그램\"을 입력하고 실행해 봅니다.<br>\n",
        "아직은 프로그램의 의미를 모르겠지만, 간단하게 ``Hello World``라는 문장을 화면에 출력하는 프로그램입니다.<br>\n",
        "아래의 코드를 입력하고 실행해 봅니다.<br>\n",
        "\n",
        "```python\n",
        "print(\"Hello World\")\n",
        "```\n",
        "\n",
        "- **입력**은 아래의 ``In [ ]``으로 표현된 입력창(박스)안에 (위의) Python 프로그램을 타이핑하는 것을 의미하며,<br>\n",
        "- **실행**은 Python 프로그램을 입력한 ``In [ ]``박스안에서, 상단 메뉴의 ``Run`` 단추를 누르거나 ``Control + Enter`` 버튼을 입력하는 것 입니다. <br> \n",
        "\n",
        "``print()`` 문법은 Python에서 괄호안의 내용을 화면에 출력합니다.<br>\n",
        "위의 예제와 같이 ``\"`` ``\"`` 기호로 앞뒤를 감싼 문자열을 주면, 해당 문자열을 그대로 출력합니다.<br>"
      ]
    },
    {
      "cell_type": "code",
      "source": [
        "# hello world 를 출력해보자\n"
      ],
      "metadata": {
        "id": "4z9XLTS2jRGo"
      },
      "execution_count": null,
      "outputs": []
    },
    {
      "cell_type": "code",
      "source": [
        ""
      ],
      "metadata": {
        "id": "xzQ0iWqqkJu-"
      },
      "execution_count": null,
      "outputs": []
    },
    {
      "cell_type": "markdown",
      "source": [
        "# 사칙 연산 해보기"
      ],
      "metadata": {
        "id": "BnFOsTKQlh2e"
      }
    },
    {
      "cell_type": "markdown",
      "metadata": {
        "id": "qHwtnPIWifcm"
      },
      "source": [
        "## 더하기와 빼기 계산하기"
      ]
    },
    {
      "cell_type": "markdown",
      "metadata": {
        "id": "US0taTyEifcn"
      },
      "source": [
        "Python의 더하기와 빼기 연산자는 이미 수학에서 배운 기호인 ``+``와 ``-``를 동일하게 사용합니다.<br>\n",
        "단순하게 정수들을 더하고 빼는 작업을 해봅니다.<br>\n",
        "다음의 각줄을 '한줄씩' 아래의 입력창에 입력하고 실행하여, 제대로 된 더하기와 빼기 연산이 이루어 지는 것을 확인합니다.<br>\n",
        "```python\n",
        "4 + 13\n",
        "15 - 3\n",
        "```"
      ]
    },
    {
      "cell_type": "code",
      "execution_count": 1,
      "metadata": {
        "id": "HE9RB43Wifcn",
        "colab": {
          "base_uri": "https://localhost:8080/"
        },
        "outputId": "60266d92-14c8-4a42-dd38-17ff9b593dd3"
      },
      "outputs": [
        {
          "output_type": "execute_result",
          "data": {
            "text/plain": [
              "12"
            ]
          },
          "metadata": {},
          "execution_count": 1
        }
      ],
      "source": [
        ""
      ]
    },
    {
      "cell_type": "markdown",
      "metadata": {
        "id": "3qR1XomZifco"
      },
      "source": [
        "위에서 나타낸 두 연산식을 한줄씩 실행하지 않고, 두줄을 한번에 모두 실행하는 것은 ``print()`` 문법을 사용하여, 다음과 같이 하면 가능합니다.<br>\n",
        "```python\n",
        "print(4 + 13)\n",
        "print(15 - 2)\n",
        "```\n",
        "아래 입력창에 상기 ``print()`` 문법을 사용한 두줄을 한꺼번에 입력해서, 실행해 보기바랍니다."
      ]
    },
    {
      "cell_type": "code",
      "execution_count": null,
      "metadata": {
        "id": "KtzXtx3Iifco"
      },
      "outputs": [],
      "source": [
        ""
      ]
    },
    {
      "cell_type": "markdown",
      "metadata": {
        "id": "UDgZR2vbifco"
      },
      "source": [
        "## 곱하기 계산하기"
      ]
    },
    {
      "cell_type": "markdown",
      "metadata": {
        "id": "sLtn7cd3ifco"
      },
      "source": [
        "Python의 곱하기 연산자는 수학에서 사용하는 ``x`` 기호가 아닌 ``*`` 기호를 사용합니다.<br>\n",
        "다음을 아래의 입력창에 입력하고 실행하여, 제대로 된 곱하기 연산 이루어 지는 것을 확인합니다.<br>\n",
        "```python\n",
        "9 * 9\n",
        "```"
      ]
    },
    {
      "cell_type": "code",
      "execution_count": null,
      "metadata": {
        "id": "OZ1L4-cFifcp"
      },
      "outputs": [],
      "source": [
        ""
      ]
    },
    {
      "cell_type": "markdown",
      "metadata": {
        "id": "na7uRQoxifcp"
      },
      "source": [
        "## 나누기 계산하기"
      ]
    },
    {
      "cell_type": "markdown",
      "metadata": {
        "id": "J57IO9wVifcp"
      },
      "source": [
        "Python을 포함한 컴퓨터 프로그래밍 언어의 나누기는 조금 복잡하게 느낄 수 있습니다.<br>\n",
        "Python은 나누기 관련 3개의 연산자가 있습니다.\n",
        "- 첫번째, ``/``은 Division 연산자라고 하며, 나누기 결과를 실수로 출력하는 수학의 나누기 연산자의 역할을 합니다.<br>\n",
        "- 두번째, ``//``은 Integer (혹은 floor) Division 연산자라고 하며, 몫을 출력합니다.<br>\n",
        "- 세번째, ``%``는 Remainder 연산자라고 하며, 나머지를 출력합니다.<br>\n",
        "\n",
        "간단하게 다음의 수식들을 각각 한줄씩 입력하고 실행하여 결과를 확인해 봅니다.<br>\n",
        "```python\n",
        "11 / 2\n",
        "11 // 2\n",
        "8.5 % 3.5\n",
        "```"
      ]
    },
    {
      "cell_type": "code",
      "execution_count": null,
      "metadata": {
        "id": "uRmb1wJMifcp",
        "outputId": "ab50f654-d5ab-4de0-abee-4d76449b3978"
      },
      "outputs": [
        {
          "data": {
            "text/plain": [
              "5.0"
            ]
          },
          "execution_count": 2,
          "metadata": {},
          "output_type": "execute_result"
        }
      ],
      "source": [
        ""
      ]
    },
    {
      "cell_type": "markdown",
      "metadata": {
        "id": "-AFzOpN1ifcp"
      },
      "source": [
        "## 기타 기본 연산자 이해하기"
      ]
    },
    {
      "cell_type": "markdown",
      "metadata": {
        "id": "NmN6-Peeifcp"
      },
      "source": [
        "Python에서 자주 사용하는 다른 기본 연산자는 ``-``와 ``**``가 있습니다.<br>\n",
        "기호 ``-``가 변수나 숫자의 앞에 있으면, 양수를 음수로 바꾸고, 음수를 양수로 바꾸는 역할(Negation)을 합니다.<br>\n",
        "기호 ``**``는 Exponentiation 연산자라고 하며, 지수 계산을 합니다.<br>\n",
        "간단하게 다음의 수식을 각각 한줄씩 입력하고 실행하여 결과를 확인해 봅니다.<br>\n",
        "```python\n",
        "-5\n",
        "2 ** 5\n",
        "```"
      ]
    },
    {
      "cell_type": "code",
      "execution_count": null,
      "metadata": {
        "id": "KErqQ0byifcq"
      },
      "outputs": [],
      "source": [
        "# 제곱 및 양수 음수를 구분하는법 \n"
      ]
    },
    {
      "cell_type": "markdown",
      "source": [
        "# 타입과 변수"
      ],
      "metadata": {
        "id": "LBknAtdIlm2u"
      }
    },
    {
      "cell_type": "markdown",
      "metadata": {
        "id": "_cXVAVLFifcq"
      },
      "source": [
        "## 기본 데이터 타입 이해하기"
      ]
    },
    {
      "cell_type": "markdown",
      "metadata": {
        "id": "wTQccOGDifcq"
      },
      "source": [
        "Python과 같은 컴퓨터 프로그래밍 언어는 무한한 실제 세상을 유한한 컴퓨터의 세상에 담기 위하여, 다양한 데이터 타입을 제공합니다.<br>\n",
        "대표적인 데이터 타입\n",
        "- 정수(integer) \n",
        "- 실수(float) \n",
        "- 복소수(complex)<br>\n",
        "\n",
        "Python 프로그래밍을 하면서, 프로그램에서 사용하는 데이터의 타입을 알고 싶으면 ``type()`` 문법을 사용하면 됩니다.<br>\n",
        "다음의 문장을 각각 한줄씩 입력하고 실행하여 결과를 확인해 보면, ``type()`` 문법으로 숫자의 타입을 출력하는 것을 실습할 수 있습니다.<br>\n",
        "```python\n",
        "type(17)\n",
        "type(17.0)\n",
        "type(2+3j)\n",
        "```"
      ]
    },
    {
      "cell_type": "code",
      "execution_count": 3,
      "metadata": {
        "id": "KVC0MPkxifcq"
      },
      "outputs": [],
      "source": [
        ""
      ]
    },
    {
      "cell_type": "markdown",
      "metadata": {
        "id": "r0WsKnMoifcr"
      },
      "source": [
        "## 변수란 무엇인가"
      ]
    },
    {
      "cell_type": "markdown",
      "metadata": {
        "id": "LJCoh4nXifcr"
      },
      "source": [
        "다음은 수학 기호를 이용하여 화씨 온도인 F를 섭씨 온도인 C로 변환하는 것을 나타낸 것입니다.<br>\n",
        "\n",
        "``Fahrenheit to Celsius (수학)``: $C=(F-32)*\\frac{5}{9}$\n",
        "\n",
        "수학 수업을 통해서, 우리는 F에 어떤 값을 대입할 경우에, 해당 수식을 계산할 수 있음을 알고 있습니다.<br>\n",
        "즉, ``F``에 212이라는 값을 대입 한다면, ``C``는 100이라는 값으로 계산이 된다는 것을 이해하는 것이지요.<br>\n",
        "이런 경우, ``F``는 변하는 값을 갖는 변수로서, 예제의 경우는 212의 값을 갖으며, ``C``도 변수로서 이경우 100이라는 값을 갖게 됩니다.<br>\n",
        "\n",
        "\n",
        "이와 같이, Python에서도 변수를 만들어서, 필요한 시점에 필요한 값을 '저장'하는 용도로 활용합니다.<br>\n",
        "Python과 같은 컴퓨터 프로그래밍 언어에서의 변수 이름은 반드시 용도를 이해할 수 있는 길이와 단어를 사용합니다.<br>\n",
        "위의 수학 공식을 Python 코드 스타일로 바꾸면 다음과 같이 됩니다.<br>\n",
        "\n",
        "``Fahrenheit to Celsius (Python)``: \n",
        "```python\n",
        "degree_celsius = (degree_fahrenheit - 32) * 5 / 9\n",
        "```\n",
        "\n",
        "실제로 다음의 코드를 아래의 입력창에 입력하고, 수행하여 화씨 212도가 섭씨 100도로 제대로 변환이 되는지를 확인해 봅니다.<br>\n",
        "```python\n",
        "degree_fahrenheit = 212\n",
        "degree_celsius = (degree_fahrenheit - 32) * 5 / 9\n",
        "print(degree_celsius)\n",
        "```\n",
        "\n",
        "\n",
        "### 파이썬 변수의 명명법\n",
        "Python에서의 변수명은 대소문자 알파벳으로 시작해서 가능하면 이름이 명확한 의미를 전달할 수 있는 명사와 동사를 섞어서 사용하기 권합니다."
      ]
    },
    {
      "cell_type": "code",
      "execution_count": null,
      "metadata": {
        "id": "IxM-LaVMifcr"
      },
      "outputs": [],
      "source": [
        ""
      ]
    },
    {
      "cell_type": "markdown",
      "metadata": {
        "id": "3Zn9oDpgifcr"
      },
      "source": [
        "## 주석 작성 하기"
      ]
    },
    {
      "cell_type": "markdown",
      "metadata": {
        "id": "lWyl0xiQifcr"
      },
      "source": [
        "주석(Comment)은 \n",
        "- 1) 내가 만든 코드를 미래의 내가 다시 읽을때 이해를 쉽게 하기 위한 용도,<br>\n",
        "- 2) 내가 만든 코드를 남에게 주었을때 다른 사람이 내가 만든 코드를 쉽게 이해하기 위한 용도로 활용합니다.<br>\n",
        "\n",
        "\n",
        "실제 Python에 의해서는 실행되지 않는 문장이며, 사람간에 소스 프로그램에 대한 정보를 전달하기 위함입니다.<br>\n",
        "Python에서의 주석은 줄의 시작 부분에 ``#`` 기호를 삽입합니다.<br>\n",
        "예를 들어 앞서 섭씨/화씨 변환 프로그램에 주석을 달면 다음과 같습니다.<br>\n",
        "```python\n",
        "# Purpose: Fahrenheit to Celsius\n",
        "# Date: 2022. 08. 7\n",
        "# Written by: Hyunjoong Shin\n",
        "degree_celsius = (degree_fahrenheit - 32) * 5 / 9 \n",
        "# degree_fahrenheit: target variable to convert\n",
        "```\n",
        "최근의 Agile과 같은 프로그래밍 기법은 설계 문서 보다는 동작하는 코드를 중시하는 바,<br>\n",
        "설계 문서를 작성하는 대신에 소스 코드 안에 미리 주석 문으로 수행해야 하는 동작을 기술한 후,<br>\n",
        "실제 Python과 같은 컴퓨터 프로그래밍 언어로 주석문의 내용을 1:1로 구현하는 방식의 기법을 많이 사용합니다.<br>\n",
        "이렇게 함으로서 주석 구문을 설계 방법 처럼 사용하는 것이니, 많이 활용해 보기 바랍니다."
      ]
    }
  ]
}